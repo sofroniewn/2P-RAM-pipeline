{
 "cells": [
  {
   "cell_type": "markdown",
   "metadata": {},
   "source": [
    "## Combine behavior and imaging data"
   ]
  },
  {
   "cell_type": "code",
   "execution_count": 20,
   "metadata": {
    "collapsed": false
   },
   "outputs": [],
   "source": [
    "import matplotlib.pyplot as plt\n",
    "%matplotlib inline\n",
    "import seaborn as sns\n",
    "sns.set_context('paper')\n",
    "sns.set_style('ticks')"
   ]
  },
  {
   "cell_type": "code",
   "execution_count": 21,
   "metadata": {
    "collapsed": false
   },
   "outputs": [],
   "source": [
    "from numpy import convolve, ones, where, mod\n",
    "from pandas import read_csv\n",
    "from os.path import exists\n",
    "from os import makedirs\n",
    "from json import load, dump\n",
    "from os import mkdir"
   ]
  },
  {
   "cell_type": "markdown",
   "metadata": {},
   "source": [
    "###Set directory and session information"
   ]
  },
  {
   "cell_type": "code",
   "execution_count": 22,
   "metadata": {
    "collapsed": true
   },
   "outputs": [],
   "source": [
    "directory = '/tier2/freeman/Nick/mVR/sessions'\n",
    "key = '000134'\n",
    "path = directory + '/' + key"
   ]
  },
  {
   "cell_type": "markdown",
   "metadata": {},
   "source": [
    "###Load session information"
   ]
  },
  {
   "cell_type": "code",
   "execution_count": 23,
   "metadata": {
    "collapsed": false
   },
   "outputs": [],
   "source": [
    "session = read_csv(path + '/behavior/session.csv')"
   ]
  },
  {
   "cell_type": "markdown",
   "metadata": {},
   "source": [
    "### Load frames per volume"
   ]
  },
  {
   "cell_type": "code",
   "execution_count": 24,
   "metadata": {
    "collapsed": false
   },
   "outputs": [],
   "source": [
    "with open(path + '/summary/meta.json') as infile:\n",
    "    meta = load(infile)\n",
    "framesPerVolume = meta['nplanes']\n",
    "numberImagingVolumes = meta['shape'][0]"
   ]
  },
  {
   "cell_type": "markdown",
   "metadata": {},
   "source": [
    "### Extract acquisition and volume trigger information"
   ]
  },
  {
   "cell_type": "markdown",
   "metadata": {},
   "source": [
    "Get frame onsets and determine number of frames"
   ]
  },
  {
   "cell_type": "code",
   "execution_count": 25,
   "metadata": {
    "collapsed": false
   },
   "outputs": [
    {
     "name": "stdout",
     "output_type": "stream",
     "text": [
      "8585\n"
     ]
    }
   ],
   "source": [
    "frames = session['frames'].diff()==1\n",
    "totalFrames = frames.sum()\n",
    "print totalFrames"
   ]
  },
  {
   "cell_type": "markdown",
   "metadata": {},
   "source": [
    "Determine number of scanimage acquisitions"
   ]
  },
  {
   "cell_type": "code",
   "execution_count": 26,
   "metadata": {
    "collapsed": true
   },
   "outputs": [],
   "source": [
    "gap = 10"
   ]
  },
  {
   "cell_type": "code",
   "execution_count": 27,
   "metadata": {
    "collapsed": true
   },
   "outputs": [],
   "source": [
    "session['acquisitions'] = convolve(session['frames'],ones(gap)/gap,'same') > 0\n",
    "session['acquisitions'] = session['acquisitions'].astype('float')"
   ]
  },
  {
   "cell_type": "code",
   "execution_count": 28,
   "metadata": {
    "collapsed": false
   },
   "outputs": [
    {
     "name": "stdout",
     "output_type": "stream",
     "text": [
      "1\n"
     ]
    }
   ],
   "source": [
    "tmp = session['acquisitions'].diff()==1\n",
    "session['acquisitionNumber'] = tmp.cumsum()-1\n",
    "numberAcquisitions = session['acquisitionNumber'].max()+1\n",
    "print numberAcquisitions"
   ]
  },
  {
   "cell_type": "markdown",
   "metadata": {},
   "source": [
    "Convert to volumes and check if last volume trigger in each acquisition is incomplete and if so delete"
   ]
  },
  {
   "cell_type": "code",
   "execution_count": 29,
   "metadata": {
    "collapsed": false
   },
   "outputs": [],
   "source": [
    "session['volumes'] = 0\n",
    "for acq in range(0,session['acquisitionNumber'].max()+1):\n",
    "    currentAcq = session['acquisitionNumber'] == acq\n",
    "    currentFrames = frames & currentAcq\n",
    "    frameNums = currentFrames.cumsum()-1\n",
    "    currentVolumes = (frameNums.mod(framesPerVolume)==0) & currentFrames\n",
    "    finalVolume = mod(currentFrames.sum(),framesPerVolume)\n",
    "    if finalVolume:\n",
    "        last = where(currentVolumes)[0][-1]\n",
    "        currentVolumes[last] = 0\n",
    "    session['volumes'] = session['volumes'] | currentVolumes"
   ]
  },
  {
   "cell_type": "code",
   "execution_count": 30,
   "metadata": {
    "collapsed": false
   },
   "outputs": [],
   "source": [
    "numberVolumes = session['volumes'].sum()"
   ]
  },
  {
   "cell_type": "markdown",
   "metadata": {},
   "source": [
    "###Save synchronization meta data"
   ]
  },
  {
   "cell_type": "code",
   "execution_count": 31,
   "metadata": {
    "collapsed": true
   },
   "outputs": [],
   "source": [
    "sync = {'numberAcquisitions':numberAcquisitions, 'totalFrames':totalFrames, 'framesPerVolume':framesPerVolume,\n",
    "       'numberVolumes':numberVolumes}"
   ]
  },
  {
   "cell_type": "code",
   "execution_count": 32,
   "metadata": {
    "collapsed": false
   },
   "outputs": [
    {
     "name": "stdout",
     "output_type": "stream",
     "text": [
      "{'numberAcquisitions': 1, 'totalFrames': 8585, 'numberVolumes': 8585, 'framesPerVolume': 1}\n"
     ]
    }
   ],
   "source": [
    "print sync"
   ]
  },
  {
   "cell_type": "code",
   "execution_count": 33,
   "metadata": {
    "collapsed": false
   },
   "outputs": [],
   "source": [
    "with open(path + '/behavior/sync.json', 'w') as outfile:\n",
    "    dump(sync, outfile, indent=2)"
   ]
  },
  {
   "cell_type": "markdown",
   "metadata": {
    "collapsed": true
   },
   "source": [
    "###Check right number of imaging volumes"
   ]
  },
  {
   "cell_type": "code",
   "execution_count": 34,
   "metadata": {
    "collapsed": false
   },
   "outputs": [],
   "source": [
    "assert(numberImagingVolumes ==  sync['numberVolumes'])"
   ]
  },
  {
   "cell_type": "markdown",
   "metadata": {},
   "source": [
    "###Downsample to volumes and save results"
   ]
  },
  {
   "cell_type": "code",
   "execution_count": 35,
   "metadata": {
    "collapsed": true
   },
   "outputs": [],
   "source": [
    "covariates = session[session.volumes]"
   ]
  },
  {
   "cell_type": "code",
   "execution_count": 36,
   "metadata": {
    "collapsed": false
   },
   "outputs": [],
   "source": [
    "if not exists(path + '/covariates'):\n",
    "    makedirs(path + '/covariates')"
   ]
  },
  {
   "cell_type": "code",
   "execution_count": 37,
   "metadata": {
    "collapsed": false
   },
   "outputs": [],
   "source": [
    "covariates.to_csv(path + '/covariates/covariates.csv')"
   ]
  },
  {
   "cell_type": "markdown",
   "metadata": {},
   "source": [
    "# Inspect triggers"
   ]
  },
  {
   "cell_type": "code",
   "execution_count": 38,
   "metadata": {
    "collapsed": false
   },
   "outputs": [
    {
     "data": {
      "image/png": "[encoded data removed]",
      "text/plain": [
       "<matplotlib.figure.Figure at 0x53409d0>"
      ]
     },
     "metadata": {},
     "output_type": "display_data"
    }
   ],
   "source": [
    "plt.plot(session.allTime,session.acquisitions,'r');\n",
    "plt.plot(session.allTime,frames);\n",
    "plt.plot(session.allTime,session.volumes,'g',linewidth=3);\n",
    "plt.ylabel('Triggers')\n",
    "plt.xlabel('Time (s)')\n",
    "#plt.xlim([0, .5])\n",
    "sns.despine()"
   ]
  },
  {
   "cell_type": "code",
   "execution_count": null,
   "metadata": {
    "collapsed": true
   },
   "outputs": [],
   "source": []
  }
 ],
 "metadata": {
  "kernelspec": {
   "display_name": "Python 2",
   "language": "python",
   "name": "python2"
  },
  "language_info": {
   "codemirror_mode": {
    "name": "ipython",
    "version": 2
   },
   "file_extension": ".py",
   "mimetype": "text/x-python",
   "name": "python",
   "nbconvert_exporter": "python",
   "pygments_lexer": "ipython2",
   "version": "2.7.6"
  }
 },
 "nbformat": 4,
 "nbformat_minor": 0
}
